{
 "cells": [
  {
   "cell_type": "code",
   "execution_count": 12,
   "metadata": {},
   "outputs": [
    {
     "name": "stdout",
     "output_type": "stream",
     "text": [
      "3.6.8\n"
     ]
    }
   ],
   "source": [
    "from platform import python_version\n",
    "print(python_version())"
   ]
  },
  {
   "cell_type": "code",
   "execution_count": 76,
   "metadata": {},
   "outputs": [],
   "source": [
    "import numpy as np\n",
    "import pandas as pd\n",
    "import matplotlib.pyplot as plt\n",
    "import datetime as dt\n",
    "from tqdm import tqdm_notebook as tqdm\n",
    "\n",
    "%matplotlib inline"
   ]
  },
  {
   "cell_type": "code",
   "execution_count": 77,
   "metadata": {},
   "outputs": [],
   "source": [
    "%%capture\n",
    "tqdm().pandas()"
   ]
  },
  {
   "cell_type": "markdown",
   "metadata": {},
   "source": [
    "# Import data"
   ]
  },
  {
   "cell_type": "code",
   "execution_count": 78,
   "metadata": {},
   "outputs": [],
   "source": [
    "# import datasets\n",
    "\n",
    "forecast1 = pd.read_csv(\"Data/windforecasts_wf1.csv\")\n",
    "forecast2 = pd.read_csv(\"Data/windforecasts_wf2.csv\")\n",
    "forecast3 = pd.read_csv(\"Data/windforecasts_wf3.csv\")\n",
    "forecast4 = pd.read_csv(\"Data/windforecasts_wf4.csv\")\n",
    "forecast5 = pd.read_csv(\"Data/windforecasts_wf5.csv\")\n",
    "forecast6 = pd.read_csv(\"Data/windforecasts_wf6.csv\")\n",
    "forecast7 = pd.read_csv(\"Data/windforecasts_wf7.csv\")\n",
    "train = pd.read_csv(\"Data/train.csv\")\n",
    "benchmark = pd.read_csv(\"Data/benchmark.csv\")\n",
    "\n",
    "forecasts = [forecast1, forecast2, forecast3, forecast4, forecast5, forecast6, forecast7]\n",
    "# Forecast structure: date hors u v ws wd\n",
    "#train structure: date wp1 wp2 wp3 wp4 wp5 wp6 wp7"
   ]
  },
  {
   "cell_type": "code",
   "execution_count": 79,
   "metadata": {},
   "outputs": [],
   "source": [
    "filenames = ['wp1.csv', 'wp2.csv', 'wp3.csv', 'wp4.csv', 'wp5.csv', 'wp6.csv', 'wp7.csv']\n",
    "windparks = ['wp1', 'wp2', 'wp3', 'wp4', 'wp5', 'wp6', 'wp7']"
   ]
  },
  {
   "cell_type": "code",
   "execution_count": 80,
   "metadata": {},
   "outputs": [
    {
     "data": {
      "text/plain": [
       "['Windfarm 1',\n",
       " 'Windfarm 2',\n",
       " 'Windfarm 3',\n",
       " 'Windfarm 4',\n",
       " 'Windfarm 5',\n",
       " 'Windfarm 6',\n",
       " 'Windfarm 7']"
      ]
     },
     "execution_count": 80,
     "metadata": {},
     "output_type": "execute_result"
    }
   ],
   "source": [
    "plot_titles = []\n",
    "for i in range(7):\n",
    "    plot_titles.append(f'Windfarm {i+1}')\n",
    "\n",
    "plot_titles"
   ]
  },
  {
   "cell_type": "markdown",
   "metadata": {},
   "source": [
    "# Functions"
   ]
  },
  {
   "cell_type": "code",
   "execution_count": 81,
   "metadata": {},
   "outputs": [],
   "source": [
    "def plot_power_vs_direction(name, dir_series, wp_series):\n",
    "    plt.scatter(dir_series, wp_series)\n",
    "    plt.xlabel('Wind direction')\n",
    "    plt.ylabel('Power production')\n",
    "    plt.title(name)"
   ]
  },
  {
   "cell_type": "code",
   "execution_count": 82,
   "metadata": {},
   "outputs": [],
   "source": [
    "# Function to remove overlapping forecasts from a forecast stored in a panda dataframe:\n",
    "\n",
    "def remove_overlap(forecast_df):\n",
    "    array = np.array([])\n",
    "    r, c = forecast_df.shape\n",
    "    for k in tqdm(range(forecast_df.shape[1]), desc='Removing overlap'):\n",
    "        for i in range(0, forecast_df.shape[0], 48):\n",
    "            for j in range(12):\n",
    "                array = np.append(array, forecast_df.iloc[i+j, k])\n",
    "    array2 = np.resize(array, (c, int(array.shape[0]/c)))\n",
    "    fdict = {'date': array2[0].astype(int), 'hors': array2[1], 'ws': array2[4], 'wd': array2[5]}\n",
    "    df = pd.DataFrame(data=fdict)\n",
    "    return df\n",
    "\n",
    "# datestring format: yyyymmddHH\n",
    "def convert_to_datetime(datestring):\n",
    "    day_offset = dt.timedelta(hours=24)\n",
    "    # Catch change of day and give proper datetime:\n",
    "    if (datestring[-2:] == '24'):\n",
    "        basedate = dt.datetime.strptime(datestring[:-2], '%Y%m%d')\n",
    "        adjusted_datetime_string = dt.datetime.strftime(basedate, '%Y%m%d') + '00'\n",
    "        new_date = dt.datetime.strptime(adjusted_datetime_string, '%Y%m%d%H') + day_offset\n",
    "    else:\n",
    "        new_date = dt.datetime.strptime(datestring, '%Y%m%d%H') #''\n",
    "    \n",
    "    return new_date\n",
    "\n",
    "def convert_date_format(forecast_dataframe):\n",
    "    for i in tqdm(range(forecast_dataframe.shape[0]), desc='Converting date format'):\n",
    "        # Fetch the date in its original format:\n",
    "        prev_date = str(forecast_dataframe.iloc[i,0])\n",
    "        forecast_hour = int(prev_date[-2:])\n",
    "        \n",
    "        # Fetch the hour the forecast is for:\n",
    "        hours_ahead = int(forecast_dataframe.iloc[i,1])\n",
    "        hour = str(forecast_hour + hours_ahead).zfill(2)\n",
    "        \n",
    "        # Replace the hours the forecast was made with the forecasted hour\n",
    "        date = prev_date[:-2] + hour\n",
    "        \n",
    "        #append the hour the forecast is for at the end of the date:\n",
    "        #date_time = date + hour\n",
    "        \n",
    "        forecast_dataframe.iloc[i,0] = date\n",
    "    \n",
    "    # Convert from string to datetime:\n",
    "    forecast_dataframe['date'] = forecast_dataframe['date'].apply(convert_to_datetime) # dt.strptime(datestring, '%')\n",
    "    \n",
    "    # Use datetime as index:\n",
    "    forecast_dataframe.set_index('date', drop=False, inplace=True, verify_integrity=True)\n",
    "    \n",
    "    return forecast_dataframe\n",
    "\n",
    "def prepare_columns(forecast_df):\n",
    "    forecast_df.drop(['hors'], axis=1, inplace=True)\n",
    "    \n",
    "    forecast_df.insert(1, 'ws-2', 0.0)\n",
    "    #Date0 ws-2[1] wind_speed[2] wind_dir[3]\n",
    "    forecast_df.insert(2, 'ws-1', 0.0)\n",
    "    forecast_df.insert(4, 'ws+1', 0.0)\n",
    "    #Date[0] ws-2[1] ws-1[2] wind_speed[3] ws+1[4] wind_dir[5]\n",
    "    forecast_df.insert(5, 'wd-2', 0.0)\n",
    "    forecast_df.insert(6, 'wd-1', 0.0)\n",
    "    forecast_df.insert(8, 'wd+1', 0.0)\n",
    "\n",
    "    features = ['hour_from_06', 'week', 'month']\n",
    "    for feature in features:\n",
    "        forecast_df.insert(forecast_df.shape[1], feature, 0)\n",
    "        \n",
    "    forecast_df.insert(forecast_df.shape[1], 'production', 0.0)\n",
    "    \n",
    "    return forecast_df\n",
    "\n",
    "# Creation of feature: hours_from_06:\n",
    "def hour_from_06(hour):\n",
    "    baseline = 6\n",
    "    if (hour > 12):\n",
    "        return 12 - abs((hour-baseline)-12)\n",
    "    return abs(hour - baseline)\n",
    "\n",
    "# create features only for the dates we have production\n",
    "def create_features(df_in, train_df, windpark):\n",
    "    # Create output dataframe excluding two first rows and last (for ws-2 .. ws+1 features)\n",
    "    df_out = df_in.iloc[2:-1,:].copy()\n",
    "    df_out = df_out.loc[df_out['date'].isin(train_df['date'])]\n",
    "    \n",
    "    # Create timedeltas:\n",
    "    d2 = dt.timedelta(hours=-2)\n",
    "    d1 = dt.timedelta(hours=-1)\n",
    "    dp1 = dt.timedelta(hours=1)\n",
    "\n",
    "    for i in tqdm(df_out['date'], desc='Feature creation'):\n",
    "        # Creating windspeed features:\n",
    "        df_out.loc[i, 'ws-2'] = df_in.loc[i+d2, 'ws']\n",
    "        df_out.loc[i, 'ws-1'] = df_in.loc[i+d1, 'ws']\n",
    "        df_out.loc[i, 'ws+1'] = df_in.loc[i+dp1, 'ws']\n",
    "\n",
    "        # Creating wind direction features:\n",
    "        df_out.loc[i, 'wd-2'] = df_in.loc[i+d2, 'wd']\n",
    "        df_out.loc[i, 'wd-1'] = df_in.loc[i+d1, 'wd']\n",
    "        df_out.loc[i, 'wd+1'] = df_in.loc[i+dp1, 'wd']\n",
    "        \n",
    "        # Setting week number:\n",
    "        df_out.loc[i, 'week'] = df_out.loc[i, 'date'].isocalendar()[1]\n",
    "        \n",
    "        #setting month number:\n",
    "        df_out.loc[i, 'month'] = df_out.loc[i, 'date'].month\n",
    "        \n",
    "        # setting time from 06:00:\n",
    "        df_out.loc[i, 'hour_from_06'] = hour_from_06(df_out.loc[i, 'date'].hour)\n",
    "        \n",
    "        # add production data (target)\n",
    "        df_out.loc[i, 'production'] = train_df.loc[i, windpark]\n",
    "        \n",
    "    return df_out\n",
    "\n",
    "\n",
    "def prepare_train_data(train):\n",
    "    train_df = train.copy()\n",
    "    train_df['date'] = train_df['date'].apply(str)\n",
    "    train_df['date'] = train_df['date'].apply(convert_to_datetime)\n",
    "    train_df.set_index('date', drop=False, inplace=True, verify_integrity=True)\n",
    "    \n",
    "    return train_df\n",
    "\n",
    "def main(forecast, train, windpark, filename):\n",
    "    # Convert index for train dataset:\n",
    "    train_df = prepare_train_data(train)\n",
    "    \n",
    "    # Prepare main dataset:\n",
    "    forecast_df = forecast.copy()\n",
    "    forecast_df = remove_overlap(forecast_df)\n",
    "    forecast_df = convert_date_format(forecast_df)\n",
    "    forecast_df = prepare_columns(forecast_df)\n",
    "    forecast_df = create_features(forecast_df, train_df, windpark)\n",
    "    forecast_df.drop(['date'], axis=1, inplace=True)\n",
    "    forecast_df.dropna(axis=0, how='any', inplace = True)\n",
    "    # Write to csv file:\n",
    "    forecast_df.to_csv(filename, index=True)\n",
    "    \n",
    "    return forecast_df"
   ]
  },
  {
   "cell_type": "markdown",
   "metadata": {},
   "source": [
    "# Create datasets"
   ]
  },
  {
   "cell_type": "code",
   "execution_count": 83,
   "metadata": {},
   "outputs": [
    {
     "data": {
      "application/vnd.jupyter.widget-view+json": {
       "model_id": "6204f83c15fa4682b2017a724b7ca703",
       "version_major": 2,
       "version_minor": 0
      },
      "text/plain": [
       "HBox(children=(IntProgress(value=0, description='Overall progress', max=6, style=ProgressStyle(description_wid…"
      ]
     },
     "metadata": {},
     "output_type": "display_data"
    },
    {
     "data": {
      "application/vnd.jupyter.widget-view+json": {
       "model_id": "7a1ebf913f31416eb2437ed5c9e2281d",
       "version_major": 2,
       "version_minor": 0
      },
      "text/plain": [
       "HBox(children=(IntProgress(value=0, description='Removing overlap', max=6, style=ProgressStyle(description_wid…"
      ]
     },
     "metadata": {},
     "output_type": "display_data"
    },
    {
     "data": {
      "application/vnd.jupyter.widget-view+json": {
       "model_id": "cf5b18c8396343d0a95c9dcec89d6896",
       "version_major": 2,
       "version_minor": 0
      },
      "text/plain": [
       "HBox(children=(IntProgress(value=0, description='Converting date format', max=26208, style=ProgressStyle(descr…"
      ]
     },
     "metadata": {},
     "output_type": "display_data"
    },
    {
     "data": {
      "application/vnd.jupyter.widget-view+json": {
       "model_id": "16f55cdcfc144fe6966be67f482c60df",
       "version_major": 2,
       "version_minor": 0
      },
      "text/plain": [
       "HBox(children=(IntProgress(value=0, description='Feature creation', max=18754, style=ProgressStyle(description…"
      ]
     },
     "metadata": {},
     "output_type": "display_data"
    },
    {
     "data": {
      "application/vnd.jupyter.widget-view+json": {
       "model_id": "14c719109db64538ae27cecfd52ff244",
       "version_major": 2,
       "version_minor": 0
      },
      "text/plain": [
       "HBox(children=(IntProgress(value=0, description='Removing overlap', max=6, style=ProgressStyle(description_wid…"
      ]
     },
     "metadata": {},
     "output_type": "display_data"
    },
    {
     "data": {
      "application/vnd.jupyter.widget-view+json": {
       "model_id": "c3d8cd4ec9324c028c3649aab295e0fd",
       "version_major": 2,
       "version_minor": 0
      },
      "text/plain": [
       "HBox(children=(IntProgress(value=0, description='Converting date format', max=26208, style=ProgressStyle(descr…"
      ]
     },
     "metadata": {},
     "output_type": "display_data"
    },
    {
     "data": {
      "application/vnd.jupyter.widget-view+json": {
       "model_id": "bc0f527d81974dde99b0d3c5c9ca52d4",
       "version_major": 2,
       "version_minor": 0
      },
      "text/plain": [
       "HBox(children=(IntProgress(value=0, description='Feature creation', max=18754, style=ProgressStyle(description…"
      ]
     },
     "metadata": {},
     "output_type": "display_data"
    },
    {
     "data": {
      "application/vnd.jupyter.widget-view+json": {
       "model_id": "70d2065318754513826a554706631ba6",
       "version_major": 2,
       "version_minor": 0
      },
      "text/plain": [
       "HBox(children=(IntProgress(value=0, description='Removing overlap', max=6, style=ProgressStyle(description_wid…"
      ]
     },
     "metadata": {},
     "output_type": "display_data"
    },
    {
     "data": {
      "application/vnd.jupyter.widget-view+json": {
       "model_id": "340b45bcbe9c4c258c31f48642d5096a",
       "version_major": 2,
       "version_minor": 0
      },
      "text/plain": [
       "HBox(children=(IntProgress(value=0, description='Converting date format', max=26208, style=ProgressStyle(descr…"
      ]
     },
     "metadata": {},
     "output_type": "display_data"
    },
    {
     "data": {
      "application/vnd.jupyter.widget-view+json": {
       "model_id": "02defe4951154c28a7e9f166d6040fc5",
       "version_major": 2,
       "version_minor": 0
      },
      "text/plain": [
       "HBox(children=(IntProgress(value=0, description='Feature creation', max=18754, style=ProgressStyle(description…"
      ]
     },
     "metadata": {},
     "output_type": "display_data"
    },
    {
     "data": {
      "application/vnd.jupyter.widget-view+json": {
       "model_id": "95d68721a4cd4d6e9dff2244d5c2180f",
       "version_major": 2,
       "version_minor": 0
      },
      "text/plain": [
       "HBox(children=(IntProgress(value=0, description='Removing overlap', max=6, style=ProgressStyle(description_wid…"
      ]
     },
     "metadata": {},
     "output_type": "display_data"
    },
    {
     "data": {
      "application/vnd.jupyter.widget-view+json": {
       "model_id": "7a72cbccd3ad437591160acde74d29bc",
       "version_major": 2,
       "version_minor": 0
      },
      "text/plain": [
       "HBox(children=(IntProgress(value=0, description='Converting date format', max=26208, style=ProgressStyle(descr…"
      ]
     },
     "metadata": {},
     "output_type": "display_data"
    },
    {
     "data": {
      "application/vnd.jupyter.widget-view+json": {
       "model_id": "79445b87bae041dca42a00e11be0bfe1",
       "version_major": 2,
       "version_minor": 0
      },
      "text/plain": [
       "HBox(children=(IntProgress(value=0, description='Feature creation', max=18754, style=ProgressStyle(description…"
      ]
     },
     "metadata": {},
     "output_type": "display_data"
    },
    {
     "data": {
      "application/vnd.jupyter.widget-view+json": {
       "model_id": "b718f90048444605a87377f8bce28fd6",
       "version_major": 2,
       "version_minor": 0
      },
      "text/plain": [
       "HBox(children=(IntProgress(value=0, description='Removing overlap', max=6, style=ProgressStyle(description_wid…"
      ]
     },
     "metadata": {},
     "output_type": "display_data"
    },
    {
     "data": {
      "application/vnd.jupyter.widget-view+json": {
       "model_id": "9b71a1e024334b17a72c365e99b31da2",
       "version_major": 2,
       "version_minor": 0
      },
      "text/plain": [
       "HBox(children=(IntProgress(value=0, description='Converting date format', max=26208, style=ProgressStyle(descr…"
      ]
     },
     "metadata": {},
     "output_type": "display_data"
    },
    {
     "data": {
      "application/vnd.jupyter.widget-view+json": {
       "model_id": "c4e2dd2aecb44da1bd5a5a5e4938b713",
       "version_major": 2,
       "version_minor": 0
      },
      "text/plain": [
       "HBox(children=(IntProgress(value=0, description='Feature creation', max=18754, style=ProgressStyle(description…"
      ]
     },
     "metadata": {},
     "output_type": "display_data"
    },
    {
     "data": {
      "application/vnd.jupyter.widget-view+json": {
       "model_id": "23b4342463014dd2bc5bf55c767a38af",
       "version_major": 2,
       "version_minor": 0
      },
      "text/plain": [
       "HBox(children=(IntProgress(value=0, description='Removing overlap', max=6, style=ProgressStyle(description_wid…"
      ]
     },
     "metadata": {},
     "output_type": "display_data"
    },
    {
     "data": {
      "application/vnd.jupyter.widget-view+json": {
       "model_id": "f93a15db87524b6e8da71f6317744954",
       "version_major": 2,
       "version_minor": 0
      },
      "text/plain": [
       "HBox(children=(IntProgress(value=0, description='Converting date format', max=26208, style=ProgressStyle(descr…"
      ]
     },
     "metadata": {},
     "output_type": "display_data"
    },
    {
     "data": {
      "application/vnd.jupyter.widget-view+json": {
       "model_id": "2818cef6ce084662a6354d0eca4ea370",
       "version_major": 2,
       "version_minor": 0
      },
      "text/plain": [
       "HBox(children=(IntProgress(value=0, description='Feature creation', max=18754, style=ProgressStyle(description…"
      ]
     },
     "metadata": {},
     "output_type": "display_data"
    },
    {
     "data": {
      "text/html": [
       "<div>\n",
       "<style scoped>\n",
       "    .dataframe tbody tr th:only-of-type {\n",
       "        vertical-align: middle;\n",
       "    }\n",
       "\n",
       "    .dataframe tbody tr th {\n",
       "        vertical-align: top;\n",
       "    }\n",
       "\n",
       "    .dataframe thead th {\n",
       "        text-align: right;\n",
       "    }\n",
       "</style>\n",
       "<table border=\"1\" class=\"dataframe\">\n",
       "  <thead>\n",
       "    <tr style=\"text-align: right;\">\n",
       "      <th></th>\n",
       "      <th>ws-2</th>\n",
       "      <th>ws-1</th>\n",
       "      <th>ws</th>\n",
       "      <th>ws+1</th>\n",
       "      <th>wd-2</th>\n",
       "      <th>wd-1</th>\n",
       "      <th>wd</th>\n",
       "      <th>wd+1</th>\n",
       "      <th>hour_from_06</th>\n",
       "      <th>week</th>\n",
       "      <th>month</th>\n",
       "      <th>production</th>\n",
       "    </tr>\n",
       "    <tr>\n",
       "      <th>date</th>\n",
       "      <th></th>\n",
       "      <th></th>\n",
       "      <th></th>\n",
       "      <th></th>\n",
       "      <th></th>\n",
       "      <th></th>\n",
       "      <th></th>\n",
       "      <th></th>\n",
       "      <th></th>\n",
       "      <th></th>\n",
       "      <th></th>\n",
       "      <th></th>\n",
       "    </tr>\n",
       "  </thead>\n",
       "  <tbody>\n",
       "    <tr>\n",
       "      <th>2009-07-01 03:00:00</th>\n",
       "      <td>4.51</td>\n",
       "      <td>4.33</td>\n",
       "      <td>4.19</td>\n",
       "      <td>4.07</td>\n",
       "      <td>135.19</td>\n",
       "      <td>135.04</td>\n",
       "      <td>134.75</td>\n",
       "      <td>134.45</td>\n",
       "      <td>3</td>\n",
       "      <td>27</td>\n",
       "      <td>7</td>\n",
       "      <td>0.013</td>\n",
       "    </tr>\n",
       "    <tr>\n",
       "      <th>2009-07-01 04:00:00</th>\n",
       "      <td>4.33</td>\n",
       "      <td>4.19</td>\n",
       "      <td>4.07</td>\n",
       "      <td>3.92</td>\n",
       "      <td>135.04</td>\n",
       "      <td>134.75</td>\n",
       "      <td>134.45</td>\n",
       "      <td>134.63</td>\n",
       "      <td>2</td>\n",
       "      <td>27</td>\n",
       "      <td>7</td>\n",
       "      <td>0.000</td>\n",
       "    </tr>\n",
       "    <tr>\n",
       "      <th>2009-07-01 05:00:00</th>\n",
       "      <td>4.19</td>\n",
       "      <td>4.07</td>\n",
       "      <td>3.92</td>\n",
       "      <td>3.69</td>\n",
       "      <td>134.75</td>\n",
       "      <td>134.45</td>\n",
       "      <td>134.63</td>\n",
       "      <td>136.00</td>\n",
       "      <td>1</td>\n",
       "      <td>27</td>\n",
       "      <td>7</td>\n",
       "      <td>0.013</td>\n",
       "    </tr>\n",
       "    <tr>\n",
       "      <th>2009-07-01 06:00:00</th>\n",
       "      <td>4.07</td>\n",
       "      <td>3.92</td>\n",
       "      <td>3.69</td>\n",
       "      <td>3.38</td>\n",
       "      <td>134.45</td>\n",
       "      <td>134.63</td>\n",
       "      <td>136.00</td>\n",
       "      <td>139.06</td>\n",
       "      <td>0</td>\n",
       "      <td>27</td>\n",
       "      <td>7</td>\n",
       "      <td>0.079</td>\n",
       "    </tr>\n",
       "    <tr>\n",
       "      <th>2009-07-01 07:00:00</th>\n",
       "      <td>3.92</td>\n",
       "      <td>3.69</td>\n",
       "      <td>3.38</td>\n",
       "      <td>3.07</td>\n",
       "      <td>134.63</td>\n",
       "      <td>136.00</td>\n",
       "      <td>139.06</td>\n",
       "      <td>142.21</td>\n",
       "      <td>1</td>\n",
       "      <td>27</td>\n",
       "      <td>7</td>\n",
       "      <td>0.013</td>\n",
       "    </tr>\n",
       "  </tbody>\n",
       "</table>\n",
       "</div>"
      ],
      "text/plain": [
       "                     ws-2  ws-1    ws  ws+1    wd-2    wd-1      wd    wd+1  \\\n",
       "date                                                                          \n",
       "2009-07-01 03:00:00  4.51  4.33  4.19  4.07  135.19  135.04  134.75  134.45   \n",
       "2009-07-01 04:00:00  4.33  4.19  4.07  3.92  135.04  134.75  134.45  134.63   \n",
       "2009-07-01 05:00:00  4.19  4.07  3.92  3.69  134.75  134.45  134.63  136.00   \n",
       "2009-07-01 06:00:00  4.07  3.92  3.69  3.38  134.45  134.63  136.00  139.06   \n",
       "2009-07-01 07:00:00  3.92  3.69  3.38  3.07  134.63  136.00  139.06  142.21   \n",
       "\n",
       "                     hour_from_06  week  month  production  \n",
       "date                                                        \n",
       "2009-07-01 03:00:00             3    27      7       0.013  \n",
       "2009-07-01 04:00:00             2    27      7       0.000  \n",
       "2009-07-01 05:00:00             1    27      7       0.013  \n",
       "2009-07-01 06:00:00             0    27      7       0.079  \n",
       "2009-07-01 07:00:00             1    27      7       0.013  "
      ]
     },
     "execution_count": 83,
     "metadata": {},
     "output_type": "execute_result"
    }
   ],
   "source": [
    "for i in tqdm(range(len(forecasts)-1), desc='Overall progress'):\n",
    "    out = main(forecasts[i], train, windparks[i], filenames[i])\n",
    "    \n",
    "out.head()"
   ]
  },
  {
   "cell_type": "code",
   "execution_count": 87,
   "metadata": {},
   "outputs": [
    {
     "data": {
      "text/html": [
       "<div>\n",
       "<style scoped>\n",
       "    .dataframe tbody tr th:only-of-type {\n",
       "        vertical-align: middle;\n",
       "    }\n",
       "\n",
       "    .dataframe tbody tr th {\n",
       "        vertical-align: top;\n",
       "    }\n",
       "\n",
       "    .dataframe thead th {\n",
       "        text-align: right;\n",
       "    }\n",
       "</style>\n",
       "<table border=\"1\" class=\"dataframe\">\n",
       "  <thead>\n",
       "    <tr style=\"text-align: right;\">\n",
       "      <th></th>\n",
       "      <th>ws-2</th>\n",
       "      <th>ws-1</th>\n",
       "      <th>ws</th>\n",
       "      <th>ws+1</th>\n",
       "      <th>wd-2</th>\n",
       "      <th>wd-1</th>\n",
       "      <th>wd</th>\n",
       "      <th>wd+1</th>\n",
       "      <th>hour_from_06</th>\n",
       "      <th>week</th>\n",
       "      <th>month</th>\n",
       "      <th>production</th>\n",
       "    </tr>\n",
       "    <tr>\n",
       "      <th>date</th>\n",
       "      <th></th>\n",
       "      <th></th>\n",
       "      <th></th>\n",
       "      <th></th>\n",
       "      <th></th>\n",
       "      <th></th>\n",
       "      <th></th>\n",
       "      <th></th>\n",
       "      <th></th>\n",
       "      <th></th>\n",
       "      <th></th>\n",
       "      <th></th>\n",
       "    </tr>\n",
       "  </thead>\n",
       "  <tbody>\n",
       "  </tbody>\n",
       "</table>\n",
       "</div>"
      ],
      "text/plain": [
       "Empty DataFrame\n",
       "Columns: [ws-2, ws-1, ws, ws+1, wd-2, wd-1, wd, wd+1, hour_from_06, week, month, production]\n",
       "Index: []"
      ]
     },
     "execution_count": 87,
     "metadata": {},
     "output_type": "execute_result"
    }
   ],
   "source": [
    "# Check for missing values in last dataset:\n",
    "out.loc[pd.isna(out['wd-2'])]"
   ]
  },
  {
   "cell_type": "code",
   "execution_count": 60,
   "metadata": {},
   "outputs": [
    {
     "data": {
      "application/vnd.jupyter.widget-view+json": {
       "model_id": "1b9f89e136d04ce38e1095f0503b48c8",
       "version_major": 2,
       "version_minor": 0
      },
      "text/plain": [
       "HBox(children=(IntProgress(value=0, description='Removing overlap', max=6, style=ProgressStyle(description_wid…"
      ]
     },
     "metadata": {},
     "output_type": "display_data"
    },
    {
     "data": {
      "application/vnd.jupyter.widget-view+json": {
       "model_id": "8c5ecf9ec85949d39af63a9b630c8db8",
       "version_major": 2,
       "version_minor": 0
      },
      "text/plain": [
       "HBox(children=(IntProgress(value=0, description='Converting date format', max=26208, style=ProgressStyle(descr…"
      ]
     },
     "metadata": {},
     "output_type": "display_data"
    },
    {
     "data": {
      "application/vnd.jupyter.widget-view+json": {
       "model_id": "b11dafabecc342afbcde435e88967a77",
       "version_major": 2,
       "version_minor": 0
      },
      "text/plain": [
       "HBox(children=(IntProgress(value=0, description='Feature creation', max=18754, style=ProgressStyle(description…"
      ]
     },
     "metadata": {},
     "output_type": "display_data"
    },
    {
     "data": {
      "text/html": [
       "<div>\n",
       "<style scoped>\n",
       "    .dataframe tbody tr th:only-of-type {\n",
       "        vertical-align: middle;\n",
       "    }\n",
       "\n",
       "    .dataframe tbody tr th {\n",
       "        vertical-align: top;\n",
       "    }\n",
       "\n",
       "    .dataframe thead th {\n",
       "        text-align: right;\n",
       "    }\n",
       "</style>\n",
       "<table border=\"1\" class=\"dataframe\">\n",
       "  <thead>\n",
       "    <tr style=\"text-align: right;\">\n",
       "      <th></th>\n",
       "      <th>ws-2</th>\n",
       "      <th>ws-1</th>\n",
       "      <th>ws</th>\n",
       "      <th>ws+1</th>\n",
       "      <th>wd-2</th>\n",
       "      <th>wd-1</th>\n",
       "      <th>wd</th>\n",
       "      <th>wd+1</th>\n",
       "      <th>hour_from_06</th>\n",
       "      <th>week</th>\n",
       "      <th>month</th>\n",
       "      <th>production</th>\n",
       "    </tr>\n",
       "    <tr>\n",
       "      <th>date</th>\n",
       "      <th></th>\n",
       "      <th></th>\n",
       "      <th></th>\n",
       "      <th></th>\n",
       "      <th></th>\n",
       "      <th></th>\n",
       "      <th></th>\n",
       "      <th></th>\n",
       "      <th></th>\n",
       "      <th></th>\n",
       "      <th></th>\n",
       "      <th></th>\n",
       "    </tr>\n",
       "  </thead>\n",
       "  <tbody>\n",
       "    <tr>\n",
       "      <th>2009-07-01 03:00:00</th>\n",
       "      <td>4.79</td>\n",
       "      <td>4.63</td>\n",
       "      <td>4.51</td>\n",
       "      <td>4.40</td>\n",
       "      <td>139.09</td>\n",
       "      <td>140.26</td>\n",
       "      <td>140.15</td>\n",
       "      <td>139.26</td>\n",
       "      <td>3</td>\n",
       "      <td>27</td>\n",
       "      <td>7</td>\n",
       "      <td>0.000</td>\n",
       "    </tr>\n",
       "    <tr>\n",
       "      <th>2009-07-01 04:00:00</th>\n",
       "      <td>4.63</td>\n",
       "      <td>4.51</td>\n",
       "      <td>4.40</td>\n",
       "      <td>4.25</td>\n",
       "      <td>140.26</td>\n",
       "      <td>140.15</td>\n",
       "      <td>139.26</td>\n",
       "      <td>138.73</td>\n",
       "      <td>2</td>\n",
       "      <td>27</td>\n",
       "      <td>7</td>\n",
       "      <td>0.000</td>\n",
       "    </tr>\n",
       "    <tr>\n",
       "      <th>2009-07-01 05:00:00</th>\n",
       "      <td>4.51</td>\n",
       "      <td>4.40</td>\n",
       "      <td>4.25</td>\n",
       "      <td>4.00</td>\n",
       "      <td>140.15</td>\n",
       "      <td>139.26</td>\n",
       "      <td>138.73</td>\n",
       "      <td>140.00</td>\n",
       "      <td>1</td>\n",
       "      <td>27</td>\n",
       "      <td>7</td>\n",
       "      <td>0.000</td>\n",
       "    </tr>\n",
       "    <tr>\n",
       "      <th>2009-07-01 06:00:00</th>\n",
       "      <td>4.40</td>\n",
       "      <td>4.25</td>\n",
       "      <td>4.00</td>\n",
       "      <td>3.66</td>\n",
       "      <td>139.26</td>\n",
       "      <td>138.73</td>\n",
       "      <td>140.00</td>\n",
       "      <td>144.27</td>\n",
       "      <td>0</td>\n",
       "      <td>27</td>\n",
       "      <td>7</td>\n",
       "      <td>0.000</td>\n",
       "    </tr>\n",
       "    <tr>\n",
       "      <th>2009-07-01 07:00:00</th>\n",
       "      <td>4.25</td>\n",
       "      <td>4.00</td>\n",
       "      <td>3.66</td>\n",
       "      <td>3.32</td>\n",
       "      <td>138.73</td>\n",
       "      <td>140.00</td>\n",
       "      <td>144.27</td>\n",
       "      <td>149.72</td>\n",
       "      <td>1</td>\n",
       "      <td>27</td>\n",
       "      <td>7</td>\n",
       "      <td>0.025</td>\n",
       "    </tr>\n",
       "  </tbody>\n",
       "</table>\n",
       "</div>"
      ],
      "text/plain": [
       "                     ws-2  ws-1    ws  ws+1    wd-2    wd-1      wd    wd+1  \\\n",
       "date                                                                          \n",
       "2009-07-01 03:00:00  4.79  4.63  4.51  4.40  139.09  140.26  140.15  139.26   \n",
       "2009-07-01 04:00:00  4.63  4.51  4.40  4.25  140.26  140.15  139.26  138.73   \n",
       "2009-07-01 05:00:00  4.51  4.40  4.25  4.00  140.15  139.26  138.73  140.00   \n",
       "2009-07-01 06:00:00  4.40  4.25  4.00  3.66  139.26  138.73  140.00  144.27   \n",
       "2009-07-01 07:00:00  4.25  4.00  3.66  3.32  138.73  140.00  144.27  149.72   \n",
       "\n",
       "                     hour_from_06  week  month  production  \n",
       "date                                                        \n",
       "2009-07-01 03:00:00             3    27      7       0.000  \n",
       "2009-07-01 04:00:00             2    27      7       0.000  \n",
       "2009-07-01 05:00:00             1    27      7       0.000  \n",
       "2009-07-01 06:00:00             0    27      7       0.000  \n",
       "2009-07-01 07:00:00             1    27      7       0.025  "
      ]
     },
     "execution_count": 60,
     "metadata": {},
     "output_type": "execute_result"
    }
   ],
   "source": [
    "august = main(forecasts[-1], train, windparks[-1], filenames[-1])\n",
    "august.head()"
   ]
  },
  {
   "cell_type": "code",
   "execution_count": 121,
   "metadata": {},
   "outputs": [
    {
     "data": {
      "text/plain": [
       "dtype('<M8[ns]')"
      ]
     },
     "execution_count": 121,
     "metadata": {},
     "output_type": "execute_result"
    }
   ],
   "source": [
    "august.index.dtype"
   ]
  },
  {
   "cell_type": "code",
   "execution_count": 119,
   "metadata": {},
   "outputs": [
    {
     "data": {
      "text/plain": [
       "([<matplotlib.axis.XTick at 0x1c9c8643940>,\n",
       "  <matplotlib.axis.XTick at 0x1c9c86432b0>,\n",
       "  <matplotlib.axis.XTick at 0x1c9c85dd518>,\n",
       "  <matplotlib.axis.XTick at 0x1c9c8664a58>,\n",
       "  <matplotlib.axis.XTick at 0x1c9c8664f28>,\n",
       "  <matplotlib.axis.XTick at 0x1c9c866d438>,\n",
       "  <matplotlib.axis.XTick at 0x1c9c866d908>,\n",
       "  <matplotlib.axis.XTick at 0x1c9c866ddd8>,\n",
       "  <matplotlib.axis.XTick at 0x1c9c86742e8>,\n",
       "  <matplotlib.axis.XTick at 0x1c9c86747b8>,\n",
       "  <matplotlib.axis.XTick at 0x1c9c8674c88>],\n",
       " <a list of 11 Text xticklabel objects>)"
      ]
     },
     "execution_count": 119,
     "metadata": {},
     "output_type": "execute_result"
    },
    {
     "data": {
      "image/png": "[encoded data removed]",
      "text/plain": [
       "<Figure size 432x288 with 1 Axes>"
      ]
     },
     "metadata": {
      "needs_background": "light"
     },
     "output_type": "display_data"
    }
   ],
   "source": [
    "plt.plot(august['production'])\n",
    "plt.xticks(ticks, labels=ticks, rotation=90)"
   ]
  },
  {
   "cell_type": "code",
   "execution_count": 118,
   "metadata": {},
   "outputs": [
    {
     "data": {
      "text/plain": [
       "DatetimeIndex(['2009-09-30 03:00:00', '2009-12-31 03:00:00',\n",
       "               '2010-03-31 03:00:00', '2010-06-30 03:00:00',\n",
       "               '2010-09-30 03:00:00', '2010-12-31 03:00:00',\n",
       "               '2011-03-31 03:00:00', '2011-06-30 03:00:00',\n",
       "               '2011-09-30 03:00:00', '2011-12-31 03:00:00',\n",
       "               '2012-03-31 03:00:00'],\n",
       "              dtype='datetime64[ns]', freq='Q-DEC')"
      ]
     },
     "execution_count": 118,
     "metadata": {},
     "output_type": "execute_result"
    }
   ],
   "source": [
    "start = august.index[0]\n",
    "end =  august.index[-1]\n",
    "\n",
    "ticks = pd.date_range(start, end, freq='Q')\n",
    "ticks\n"
   ]
  },
  {
   "cell_type": "code",
   "execution_count": 72,
   "metadata": {},
   "outputs": [
    {
     "data": {
      "text/html": [
       "<div>\n",
       "<style scoped>\n",
       "    .dataframe tbody tr th:only-of-type {\n",
       "        vertical-align: middle;\n",
       "    }\n",
       "\n",
       "    .dataframe tbody tr th {\n",
       "        vertical-align: top;\n",
       "    }\n",
       "\n",
       "    .dataframe thead th {\n",
       "        text-align: right;\n",
       "    }\n",
       "</style>\n",
       "<table border=\"1\" class=\"dataframe\">\n",
       "  <thead>\n",
       "    <tr style=\"text-align: right;\">\n",
       "      <th></th>\n",
       "      <th>ws-2</th>\n",
       "      <th>ws-1</th>\n",
       "      <th>ws</th>\n",
       "      <th>ws+1</th>\n",
       "      <th>wd-2</th>\n",
       "      <th>wd-1</th>\n",
       "      <th>wd</th>\n",
       "      <th>wd+1</th>\n",
       "      <th>hour_from_06</th>\n",
       "      <th>week</th>\n",
       "      <th>month</th>\n",
       "      <th>production</th>\n",
       "    </tr>\n",
       "    <tr>\n",
       "      <th>date</th>\n",
       "      <th></th>\n",
       "      <th></th>\n",
       "      <th></th>\n",
       "      <th></th>\n",
       "      <th></th>\n",
       "      <th></th>\n",
       "      <th></th>\n",
       "      <th></th>\n",
       "      <th></th>\n",
       "      <th></th>\n",
       "      <th></th>\n",
       "      <th></th>\n",
       "    </tr>\n",
       "  </thead>\n",
       "  <tbody>\n",
       "  </tbody>\n",
       "</table>\n",
       "</div>"
      ],
      "text/plain": [
       "Empty DataFrame\n",
       "Columns: [ws-2, ws-1, ws, ws+1, wd-2, wd-1, wd, wd+1, hour_from_06, week, month, production]\n",
       "Index: []"
      ]
     },
     "execution_count": 72,
     "metadata": {},
     "output_type": "execute_result"
    }
   ],
   "source": []
  },
  {
   "cell_type": "code",
   "execution_count": 44,
   "metadata": {},
   "outputs": [
    {
     "data": {
      "text/html": [
       "<div>\n",
       "<style scoped>\n",
       "    .dataframe tbody tr th:only-of-type {\n",
       "        vertical-align: middle;\n",
       "    }\n",
       "\n",
       "    .dataframe tbody tr th {\n",
       "        vertical-align: top;\n",
       "    }\n",
       "\n",
       "    .dataframe thead th {\n",
       "        text-align: right;\n",
       "    }\n",
       "</style>\n",
       "<table border=\"1\" class=\"dataframe\">\n",
       "  <thead>\n",
       "    <tr style=\"text-align: right;\">\n",
       "      <th></th>\n",
       "      <th>date</th>\n",
       "      <th>hors</th>\n",
       "      <th>ws</th>\n",
       "      <th>wd</th>\n",
       "    </tr>\n",
       "    <tr>\n",
       "      <th>date</th>\n",
       "      <th></th>\n",
       "      <th></th>\n",
       "      <th></th>\n",
       "      <th></th>\n",
       "    </tr>\n",
       "  </thead>\n",
       "  <tbody>\n",
       "    <tr>\n",
       "      <th>2011-02-01 09:00:00</th>\n",
       "      <td>2011-02-01 09:00:00</td>\n",
       "      <td>9.0</td>\n",
       "      <td>3.62</td>\n",
       "      <td>242.41</td>\n",
       "    </tr>\n",
       "    <tr>\n",
       "      <th>2011-02-01 10:00:00</th>\n",
       "      <td>2011-02-01 10:00:00</td>\n",
       "      <td>10.0</td>\n",
       "      <td>4.22</td>\n",
       "      <td>240.34</td>\n",
       "    </tr>\n",
       "    <tr>\n",
       "      <th>2011-02-01 11:00:00</th>\n",
       "      <td>2011-02-01 11:00:00</td>\n",
       "      <td>11.0</td>\n",
       "      <td>4.82</td>\n",
       "      <td>239.28</td>\n",
       "    </tr>\n",
       "    <tr>\n",
       "      <th>2011-02-01 12:00:00</th>\n",
       "      <td>2011-02-01 12:00:00</td>\n",
       "      <td>12.0</td>\n",
       "      <td>5.21</td>\n",
       "      <td>238.57</td>\n",
       "    </tr>\n",
       "    <tr>\n",
       "      <th>2011-02-01 13:00:00</th>\n",
       "      <td>2011-02-01 13:00:00</td>\n",
       "      <td>1.0</td>\n",
       "      <td>5.18</td>\n",
       "      <td>230.22</td>\n",
       "    </tr>\n",
       "    <tr>\n",
       "      <th>2011-02-01 14:00:00</th>\n",
       "      <td>2011-02-01 14:00:00</td>\n",
       "      <td>2.0</td>\n",
       "      <td>5.26</td>\n",
       "      <td>229.28</td>\n",
       "    </tr>\n",
       "    <tr>\n",
       "      <th>2011-02-01 15:00:00</th>\n",
       "      <td>2011-02-01 15:00:00</td>\n",
       "      <td>3.0</td>\n",
       "      <td>5.44</td>\n",
       "      <td>228.36</td>\n",
       "    </tr>\n",
       "    <tr>\n",
       "      <th>2011-02-01 16:00:00</th>\n",
       "      <td>2011-02-01 16:00:00</td>\n",
       "      <td>4.0</td>\n",
       "      <td>5.63</td>\n",
       "      <td>227.58</td>\n",
       "    </tr>\n",
       "    <tr>\n",
       "      <th>2011-02-01 17:00:00</th>\n",
       "      <td>2011-02-01 17:00:00</td>\n",
       "      <td>5.0</td>\n",
       "      <td>5.70</td>\n",
       "      <td>227.03</td>\n",
       "    </tr>\n",
       "    <tr>\n",
       "      <th>2011-02-01 18:00:00</th>\n",
       "      <td>2011-02-01 18:00:00</td>\n",
       "      <td>6.0</td>\n",
       "      <td>5.47</td>\n",
       "      <td>226.76</td>\n",
       "    </tr>\n",
       "    <tr>\n",
       "      <th>2011-02-01 19:00:00</th>\n",
       "      <td>2011-02-01 19:00:00</td>\n",
       "      <td>7.0</td>\n",
       "      <td>4.88</td>\n",
       "      <td>226.85</td>\n",
       "    </tr>\n",
       "    <tr>\n",
       "      <th>2011-02-01 20:00:00</th>\n",
       "      <td>2011-02-01 20:00:00</td>\n",
       "      <td>8.0</td>\n",
       "      <td>4.15</td>\n",
       "      <td>227.37</td>\n",
       "    </tr>\n",
       "    <tr>\n",
       "      <th>2011-02-01 21:00:00</th>\n",
       "      <td>2011-02-01 21:00:00</td>\n",
       "      <td>9.0</td>\n",
       "      <td>3.60</td>\n",
       "      <td>228.39</td>\n",
       "    </tr>\n",
       "    <tr>\n",
       "      <th>2011-02-01 22:00:00</th>\n",
       "      <td>2011-02-01 22:00:00</td>\n",
       "      <td>10.0</td>\n",
       "      <td>3.47</td>\n",
       "      <td>229.81</td>\n",
       "    </tr>\n",
       "    <tr>\n",
       "      <th>2011-02-01 23:00:00</th>\n",
       "      <td>2011-02-01 23:00:00</td>\n",
       "      <td>11.0</td>\n",
       "      <td>3.63</td>\n",
       "      <td>231.95</td>\n",
       "    </tr>\n",
       "    <tr>\n",
       "      <th>2011-02-02 00:00:00</th>\n",
       "      <td>2011-02-02 00:00:00</td>\n",
       "      <td>12.0</td>\n",
       "      <td>3.90</td>\n",
       "      <td>235.36</td>\n",
       "    </tr>\n",
       "    <tr>\n",
       "      <th>2011-02-03 13:00:00</th>\n",
       "      <td>2011-02-03 13:00:00</td>\n",
       "      <td>1.0</td>\n",
       "      <td>2.94</td>\n",
       "      <td>73.52</td>\n",
       "    </tr>\n",
       "    <tr>\n",
       "      <th>2011-02-03 14:00:00</th>\n",
       "      <td>2011-02-03 14:00:00</td>\n",
       "      <td>2.0</td>\n",
       "      <td>3.13</td>\n",
       "      <td>63.82</td>\n",
       "    </tr>\n",
       "    <tr>\n",
       "      <th>2011-02-03 15:00:00</th>\n",
       "      <td>2011-02-03 15:00:00</td>\n",
       "      <td>3.0</td>\n",
       "      <td>3.75</td>\n",
       "      <td>60.08</td>\n",
       "    </tr>\n",
       "    <tr>\n",
       "      <th>2011-02-03 16:00:00</th>\n",
       "      <td>2011-02-03 16:00:00</td>\n",
       "      <td>4.0</td>\n",
       "      <td>4.56</td>\n",
       "      <td>59.89</td>\n",
       "    </tr>\n",
       "    <tr>\n",
       "      <th>2011-02-03 17:00:00</th>\n",
       "      <td>2011-02-03 17:00:00</td>\n",
       "      <td>5.0</td>\n",
       "      <td>5.29</td>\n",
       "      <td>60.60</td>\n",
       "    </tr>\n",
       "    <tr>\n",
       "      <th>2011-02-03 18:00:00</th>\n",
       "      <td>2011-02-03 18:00:00</td>\n",
       "      <td>6.0</td>\n",
       "      <td>5.65</td>\n",
       "      <td>60.83</td>\n",
       "    </tr>\n",
       "    <tr>\n",
       "      <th>2011-02-03 19:00:00</th>\n",
       "      <td>2011-02-03 19:00:00</td>\n",
       "      <td>7.0</td>\n",
       "      <td>5.46</td>\n",
       "      <td>59.84</td>\n",
       "    </tr>\n",
       "    <tr>\n",
       "      <th>2011-02-03 20:00:00</th>\n",
       "      <td>2011-02-03 20:00:00</td>\n",
       "      <td>8.0</td>\n",
       "      <td>4.98</td>\n",
       "      <td>57.74</td>\n",
       "    </tr>\n",
       "    <tr>\n",
       "      <th>2011-02-03 21:00:00</th>\n",
       "      <td>2011-02-03 21:00:00</td>\n",
       "      <td>9.0</td>\n",
       "      <td>4.54</td>\n",
       "      <td>55.05</td>\n",
       "    </tr>\n",
       "    <tr>\n",
       "      <th>2011-02-03 22:00:00</th>\n",
       "      <td>2011-02-03 22:00:00</td>\n",
       "      <td>10.0</td>\n",
       "      <td>4.43</td>\n",
       "      <td>52.96</td>\n",
       "    </tr>\n",
       "    <tr>\n",
       "      <th>2011-02-03 23:00:00</th>\n",
       "      <td>2011-02-03 23:00:00</td>\n",
       "      <td>11.0</td>\n",
       "      <td>4.58</td>\n",
       "      <td>52.04</td>\n",
       "    </tr>\n",
       "    <tr>\n",
       "      <th>2011-02-04 00:00:00</th>\n",
       "      <td>2011-02-04 00:00:00</td>\n",
       "      <td>12.0</td>\n",
       "      <td>4.87</td>\n",
       "      <td>52.18</td>\n",
       "    </tr>\n",
       "    <tr>\n",
       "      <th>2011-02-04 01:00:00</th>\n",
       "      <td>2011-02-04 01:00:00</td>\n",
       "      <td>1.0</td>\n",
       "      <td>5.82</td>\n",
       "      <td>51.31</td>\n",
       "    </tr>\n",
       "    <tr>\n",
       "      <th>2011-02-04 02:00:00</th>\n",
       "      <td>2011-02-04 02:00:00</td>\n",
       "      <td>2.0</td>\n",
       "      <td>5.78</td>\n",
       "      <td>52.03</td>\n",
       "    </tr>\n",
       "    <tr>\n",
       "      <th>2011-02-04 03:00:00</th>\n",
       "      <td>2011-02-04 03:00:00</td>\n",
       "      <td>3.0</td>\n",
       "      <td>5.73</td>\n",
       "      <td>52.93</td>\n",
       "    </tr>\n",
       "    <tr>\n",
       "      <th>2011-02-04 04:00:00</th>\n",
       "      <td>2011-02-04 04:00:00</td>\n",
       "      <td>4.0</td>\n",
       "      <td>5.66</td>\n",
       "      <td>54.02</td>\n",
       "    </tr>\n",
       "    <tr>\n",
       "      <th>2011-02-04 05:00:00</th>\n",
       "      <td>2011-02-04 05:00:00</td>\n",
       "      <td>5.0</td>\n",
       "      <td>5.58</td>\n",
       "      <td>55.47</td>\n",
       "    </tr>\n",
       "    <tr>\n",
       "      <th>2011-02-04 06:00:00</th>\n",
       "      <td>2011-02-04 06:00:00</td>\n",
       "      <td>6.0</td>\n",
       "      <td>5.50</td>\n",
       "      <td>57.47</td>\n",
       "    </tr>\n",
       "    <tr>\n",
       "      <th>2011-02-04 07:00:00</th>\n",
       "      <td>2011-02-04 07:00:00</td>\n",
       "      <td>7.0</td>\n",
       "      <td>5.42</td>\n",
       "      <td>60.08</td>\n",
       "    </tr>\n",
       "    <tr>\n",
       "      <th>2011-02-04 08:00:00</th>\n",
       "      <td>2011-02-04 08:00:00</td>\n",
       "      <td>8.0</td>\n",
       "      <td>5.31</td>\n",
       "      <td>62.71</td>\n",
       "    </tr>\n",
       "    <tr>\n",
       "      <th>2011-02-04 09:00:00</th>\n",
       "      <td>2011-02-04 09:00:00</td>\n",
       "      <td>9.0</td>\n",
       "      <td>5.09</td>\n",
       "      <td>64.64</td>\n",
       "    </tr>\n",
       "    <tr>\n",
       "      <th>2011-02-04 10:00:00</th>\n",
       "      <td>2011-02-04 10:00:00</td>\n",
       "      <td>10.0</td>\n",
       "      <td>4.73</td>\n",
       "      <td>65.35</td>\n",
       "    </tr>\n",
       "    <tr>\n",
       "      <th>2011-02-04 11:00:00</th>\n",
       "      <td>2011-02-04 11:00:00</td>\n",
       "      <td>11.0</td>\n",
       "      <td>4.39</td>\n",
       "      <td>65.24</td>\n",
       "    </tr>\n",
       "    <tr>\n",
       "      <th>2011-02-04 12:00:00</th>\n",
       "      <td>2011-02-04 12:00:00</td>\n",
       "      <td>12.0</td>\n",
       "      <td>4.24</td>\n",
       "      <td>65.08</td>\n",
       "    </tr>\n",
       "    <tr>\n",
       "      <th>2011-02-04 13:00:00</th>\n",
       "      <td>2011-02-04 13:00:00</td>\n",
       "      <td>1.0</td>\n",
       "      <td>3.88</td>\n",
       "      <td>79.75</td>\n",
       "    </tr>\n",
       "    <tr>\n",
       "      <th>2011-02-04 14:00:00</th>\n",
       "      <td>2011-02-04 14:00:00</td>\n",
       "      <td>2.0</td>\n",
       "      <td>3.74</td>\n",
       "      <td>80.26</td>\n",
       "    </tr>\n",
       "    <tr>\n",
       "      <th>2011-02-04 15:00:00</th>\n",
       "      <td>2011-02-04 15:00:00</td>\n",
       "      <td>3.0</td>\n",
       "      <td>4.35</td>\n",
       "      <td>72.30</td>\n",
       "    </tr>\n",
       "    <tr>\n",
       "      <th>2011-02-04 16:00:00</th>\n",
       "      <td>2011-02-04 16:00:00</td>\n",
       "      <td>4.0</td>\n",
       "      <td>5.49</td>\n",
       "      <td>63.64</td>\n",
       "    </tr>\n",
       "    <tr>\n",
       "      <th>2011-02-04 17:00:00</th>\n",
       "      <td>2011-02-04 17:00:00</td>\n",
       "      <td>5.0</td>\n",
       "      <td>6.58</td>\n",
       "      <td>58.03</td>\n",
       "    </tr>\n",
       "    <tr>\n",
       "      <th>2011-02-04 18:00:00</th>\n",
       "      <td>2011-02-04 18:00:00</td>\n",
       "      <td>6.0</td>\n",
       "      <td>6.95</td>\n",
       "      <td>55.33</td>\n",
       "    </tr>\n",
       "    <tr>\n",
       "      <th>2011-02-04 19:00:00</th>\n",
       "      <td>2011-02-04 19:00:00</td>\n",
       "      <td>7.0</td>\n",
       "      <td>6.13</td>\n",
       "      <td>55.09</td>\n",
       "    </tr>\n",
       "    <tr>\n",
       "      <th>2011-02-04 20:00:00</th>\n",
       "      <td>2011-02-04 20:00:00</td>\n",
       "      <td>8.0</td>\n",
       "      <td>4.69</td>\n",
       "      <td>56.23</td>\n",
       "    </tr>\n",
       "    <tr>\n",
       "      <th>2011-02-04 21:00:00</th>\n",
       "      <td>2011-02-04 21:00:00</td>\n",
       "      <td>9.0</td>\n",
       "      <td>3.47</td>\n",
       "      <td>56.46</td>\n",
       "    </tr>\n",
       "    <tr>\n",
       "      <th>2011-02-04 22:00:00</th>\n",
       "      <td>2011-02-04 22:00:00</td>\n",
       "      <td>10.0</td>\n",
       "      <td>3.09</td>\n",
       "      <td>51.70</td>\n",
       "    </tr>\n",
       "    <tr>\n",
       "      <th>2011-02-04 23:00:00</th>\n",
       "      <td>2011-02-04 23:00:00</td>\n",
       "      <td>11.0</td>\n",
       "      <td>3.38</td>\n",
       "      <td>45.33</td>\n",
       "    </tr>\n",
       "    <tr>\n",
       "      <th>2011-02-05 00:00:00</th>\n",
       "      <td>2011-02-05 00:00:00</td>\n",
       "      <td>12.0</td>\n",
       "      <td>3.90</td>\n",
       "      <td>41.96</td>\n",
       "    </tr>\n",
       "    <tr>\n",
       "      <th>2011-02-05 01:00:00</th>\n",
       "      <td>2011-02-05 01:00:00</td>\n",
       "      <td>1.0</td>\n",
       "      <td>4.35</td>\n",
       "      <td>39.47</td>\n",
       "    </tr>\n",
       "    <tr>\n",
       "      <th>2011-02-05 02:00:00</th>\n",
       "      <td>2011-02-05 02:00:00</td>\n",
       "      <td>2.0</td>\n",
       "      <td>4.37</td>\n",
       "      <td>41.45</td>\n",
       "    </tr>\n",
       "    <tr>\n",
       "      <th>2011-02-05 03:00:00</th>\n",
       "      <td>2011-02-05 03:00:00</td>\n",
       "      <td>3.0</td>\n",
       "      <td>4.51</td>\n",
       "      <td>44.52</td>\n",
       "    </tr>\n",
       "    <tr>\n",
       "      <th>2011-02-05 04:00:00</th>\n",
       "      <td>2011-02-05 04:00:00</td>\n",
       "      <td>4.0</td>\n",
       "      <td>4.70</td>\n",
       "      <td>47.92</td>\n",
       "    </tr>\n",
       "    <tr>\n",
       "      <th>2011-02-05 05:00:00</th>\n",
       "      <td>2011-02-05 05:00:00</td>\n",
       "      <td>5.0</td>\n",
       "      <td>4.87</td>\n",
       "      <td>50.86</td>\n",
       "    </tr>\n",
       "    <tr>\n",
       "      <th>2011-02-05 06:00:00</th>\n",
       "      <td>2011-02-05 06:00:00</td>\n",
       "      <td>6.0</td>\n",
       "      <td>4.91</td>\n",
       "      <td>52.81</td>\n",
       "    </tr>\n",
       "    <tr>\n",
       "      <th>2011-02-05 07:00:00</th>\n",
       "      <td>2011-02-05 07:00:00</td>\n",
       "      <td>7.0</td>\n",
       "      <td>4.75</td>\n",
       "      <td>53.59</td>\n",
       "    </tr>\n",
       "    <tr>\n",
       "      <th>2011-02-05 08:00:00</th>\n",
       "      <td>2011-02-05 08:00:00</td>\n",
       "      <td>8.0</td>\n",
       "      <td>4.50</td>\n",
       "      <td>53.87</td>\n",
       "    </tr>\n",
       "  </tbody>\n",
       "</table>\n",
       "</div>"
      ],
      "text/plain": [
       "                                   date  hors    ws      wd\n",
       "date                                                       \n",
       "2011-02-01 09:00:00 2011-02-01 09:00:00   9.0  3.62  242.41\n",
       "2011-02-01 10:00:00 2011-02-01 10:00:00  10.0  4.22  240.34\n",
       "2011-02-01 11:00:00 2011-02-01 11:00:00  11.0  4.82  239.28\n",
       "2011-02-01 12:00:00 2011-02-01 12:00:00  12.0  5.21  238.57\n",
       "2011-02-01 13:00:00 2011-02-01 13:00:00   1.0  5.18  230.22\n",
       "2011-02-01 14:00:00 2011-02-01 14:00:00   2.0  5.26  229.28\n",
       "2011-02-01 15:00:00 2011-02-01 15:00:00   3.0  5.44  228.36\n",
       "2011-02-01 16:00:00 2011-02-01 16:00:00   4.0  5.63  227.58\n",
       "2011-02-01 17:00:00 2011-02-01 17:00:00   5.0  5.70  227.03\n",
       "2011-02-01 18:00:00 2011-02-01 18:00:00   6.0  5.47  226.76\n",
       "2011-02-01 19:00:00 2011-02-01 19:00:00   7.0  4.88  226.85\n",
       "2011-02-01 20:00:00 2011-02-01 20:00:00   8.0  4.15  227.37\n",
       "2011-02-01 21:00:00 2011-02-01 21:00:00   9.0  3.60  228.39\n",
       "2011-02-01 22:00:00 2011-02-01 22:00:00  10.0  3.47  229.81\n",
       "2011-02-01 23:00:00 2011-02-01 23:00:00  11.0  3.63  231.95\n",
       "2011-02-02 00:00:00 2011-02-02 00:00:00  12.0  3.90  235.36\n",
       "2011-02-03 13:00:00 2011-02-03 13:00:00   1.0  2.94   73.52\n",
       "2011-02-03 14:00:00 2011-02-03 14:00:00   2.0  3.13   63.82\n",
       "2011-02-03 15:00:00 2011-02-03 15:00:00   3.0  3.75   60.08\n",
       "2011-02-03 16:00:00 2011-02-03 16:00:00   4.0  4.56   59.89\n",
       "2011-02-03 17:00:00 2011-02-03 17:00:00   5.0  5.29   60.60\n",
       "2011-02-03 18:00:00 2011-02-03 18:00:00   6.0  5.65   60.83\n",
       "2011-02-03 19:00:00 2011-02-03 19:00:00   7.0  5.46   59.84\n",
       "2011-02-03 20:00:00 2011-02-03 20:00:00   8.0  4.98   57.74\n",
       "2011-02-03 21:00:00 2011-02-03 21:00:00   9.0  4.54   55.05\n",
       "2011-02-03 22:00:00 2011-02-03 22:00:00  10.0  4.43   52.96\n",
       "2011-02-03 23:00:00 2011-02-03 23:00:00  11.0  4.58   52.04\n",
       "2011-02-04 00:00:00 2011-02-04 00:00:00  12.0  4.87   52.18\n",
       "2011-02-04 01:00:00 2011-02-04 01:00:00   1.0  5.82   51.31\n",
       "2011-02-04 02:00:00 2011-02-04 02:00:00   2.0  5.78   52.03\n",
       "2011-02-04 03:00:00 2011-02-04 03:00:00   3.0  5.73   52.93\n",
       "2011-02-04 04:00:00 2011-02-04 04:00:00   4.0  5.66   54.02\n",
       "2011-02-04 05:00:00 2011-02-04 05:00:00   5.0  5.58   55.47\n",
       "2011-02-04 06:00:00 2011-02-04 06:00:00   6.0  5.50   57.47\n",
       "2011-02-04 07:00:00 2011-02-04 07:00:00   7.0  5.42   60.08\n",
       "2011-02-04 08:00:00 2011-02-04 08:00:00   8.0  5.31   62.71\n",
       "2011-02-04 09:00:00 2011-02-04 09:00:00   9.0  5.09   64.64\n",
       "2011-02-04 10:00:00 2011-02-04 10:00:00  10.0  4.73   65.35\n",
       "2011-02-04 11:00:00 2011-02-04 11:00:00  11.0  4.39   65.24\n",
       "2011-02-04 12:00:00 2011-02-04 12:00:00  12.0  4.24   65.08\n",
       "2011-02-04 13:00:00 2011-02-04 13:00:00   1.0  3.88   79.75\n",
       "2011-02-04 14:00:00 2011-02-04 14:00:00   2.0  3.74   80.26\n",
       "2011-02-04 15:00:00 2011-02-04 15:00:00   3.0  4.35   72.30\n",
       "2011-02-04 16:00:00 2011-02-04 16:00:00   4.0  5.49   63.64\n",
       "2011-02-04 17:00:00 2011-02-04 17:00:00   5.0  6.58   58.03\n",
       "2011-02-04 18:00:00 2011-02-04 18:00:00   6.0  6.95   55.33\n",
       "2011-02-04 19:00:00 2011-02-04 19:00:00   7.0  6.13   55.09\n",
       "2011-02-04 20:00:00 2011-02-04 20:00:00   8.0  4.69   56.23\n",
       "2011-02-04 21:00:00 2011-02-04 21:00:00   9.0  3.47   56.46\n",
       "2011-02-04 22:00:00 2011-02-04 22:00:00  10.0  3.09   51.70\n",
       "2011-02-04 23:00:00 2011-02-04 23:00:00  11.0  3.38   45.33\n",
       "2011-02-05 00:00:00 2011-02-05 00:00:00  12.0  3.90   41.96\n",
       "2011-02-05 01:00:00 2011-02-05 01:00:00   1.0  4.35   39.47\n",
       "2011-02-05 02:00:00 2011-02-05 02:00:00   2.0  4.37   41.45\n",
       "2011-02-05 03:00:00 2011-02-05 03:00:00   3.0  4.51   44.52\n",
       "2011-02-05 04:00:00 2011-02-05 04:00:00   4.0  4.70   47.92\n",
       "2011-02-05 05:00:00 2011-02-05 05:00:00   5.0  4.87   50.86\n",
       "2011-02-05 06:00:00 2011-02-05 06:00:00   6.0  4.91   52.81\n",
       "2011-02-05 07:00:00 2011-02-05 07:00:00   7.0  4.75   53.59\n",
       "2011-02-05 08:00:00 2011-02-05 08:00:00   8.0  4.50   53.87"
      ]
     },
     "execution_count": 44,
     "metadata": {},
     "output_type": "execute_result"
    }
   ],
   "source": []
  },
  {
   "cell_type": "code",
   "execution_count": null,
   "metadata": {},
   "outputs": [],
   "source": []
  }
 ],
 "metadata": {
  "kernelspec": {
   "display_name": "Python 3",
   "language": "python",
   "name": "python3"
  },
  "language_info": {
   "codemirror_mode": {
    "name": "ipython",
    "version": 3
   },
   "file_extension": ".py",
   "mimetype": "text/x-python",
   "name": "python",
   "nbconvert_exporter": "python",
   "pygments_lexer": "ipython3",
   "version": "3.6.8"
  }
 },
 "nbformat": 4,
 "nbformat_minor": 2
}
